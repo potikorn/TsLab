{
 "cells": [
  {
   "cell_type": "markdown",
   "metadata": {},
   "source": [
    "# Classes"
   ]
  },
  {
   "cell_type": "code",
   "execution_count": 4,
   "metadata": {},
   "outputs": [
    {
     "name": "stdout",
     "output_type": "stream",
     "text": [
      "Hello World\n"
     ]
    }
   ],
   "source": [
    "class Greeter {\n",
    "  greeting: string\n",
    "  \n",
    "  constructor(message: string) {\n",
    "    this.greeting = message\n",
    "  }\n",
    "  \n",
    "  greet() {\n",
    "    return `Hello ${this.greeting}`\n",
    "  }\n",
    "}\n",
    "\n",
    "let greeter = new Greeter(\"World\")\n",
    "greeter.greet()"
   ]
  },
  {
   "cell_type": "markdown",
   "metadata": {},
   "source": [
    "## Inheritance"
   ]
  },
  {
   "cell_type": "code",
   "execution_count": 7,
   "metadata": {},
   "outputs": [
    {
     "name": "stdout",
     "output_type": "stream",
     "text": [
      "Woof! Woof!\n",
      "Animal moved 10m.\n",
      "Woof! Woof!\n"
     ]
    }
   ],
   "source": [
    "class Animal {\n",
    "  move(distanceInMeters: number = 0) {\n",
    "    console.log(`Animal moved ${distanceInMeters}m.`)\n",
    "  }\n",
    "}\n",
    "\n",
    "class Dog extends Animal {\n",
    "  bark() {\n",
    "    console.log(\"Woof! Woof!\");\n",
    "  }\n",
    "}\n",
    "\n",
    "const dog = new Dog();\n",
    "dog.bark();\n",
    "dog.move(10);\n",
    "dog.bark();"
   ]
  },
  {
   "cell_type": "code",
   "execution_count": 9,
   "metadata": {},
   "outputs": [
    {
     "name": "stdout",
     "output_type": "stream",
     "text": [
      "Slithering...\n",
      "Sammy the Python moved 5m.\n",
      "Galloping...\n",
      "Tommy the Palomino moved 34m.\n"
     ]
    }
   ],
   "source": [
    "// Let’s now look at a more complex example.\n",
    "\n",
    "class Animal {\n",
    "  name: string\n",
    "  constructor(theName: string) {\n",
    "    this.name = theName\n",
    "  }\n",
    "  move(distanceInMeters: number = 0) {\n",
    "    console.log(`${this.name} moved ${distanceInMeters}m.`);\n",
    "  }\n",
    "}\n",
    "\n",
    "class Snake extends Animal {\n",
    "  constructor(name: string) {\n",
    "    super(name)\n",
    "  }\n",
    "  move(distanceInMeters = 5) {\n",
    "    console.log(\"Slithering...\")\n",
    "    super.move(distanceInMeters);\n",
    "  }\n",
    "}\n",
    "\n",
    "class Horse extends Animal {\n",
    "  constructor(name: string) {\n",
    "    super(name);\n",
    "  }\n",
    "  move(distanceInMeters = 45) {\n",
    "    console.log(\"Galloping...\");\n",
    "    super.move(distanceInMeters);\n",
    "  }\n",
    "}\n",
    "\n",
    "let sam = new Snake(\"Sammy the Python\");\n",
    "let tom: Animal = new Horse(\"Tommy the Palomino\");\n",
    "\n",
    "sam.move();\n",
    "tom.move(34);"
   ]
  },
  {
   "cell_type": "markdown",
   "metadata": {},
   "source": [
    "# Public, private, and protected modifiers"
   ]
  },
  {
   "cell_type": "markdown",
   "metadata": {},
   "source": [
    "## Public by default"
   ]
  },
  {
   "cell_type": "code",
   "execution_count": 10,
   "metadata": {},
   "outputs": [],
   "source": [
    "class Animal {\n",
    "  public name: string;\n",
    "\n",
    "  public constructor(theName: string) {\n",
    "    this.name = theName;\n",
    "  }\n",
    "\n",
    "  public move(distanceInMeters: number) {\n",
    "    console.log(`${this.name} moved ${distanceInMeters}m.`);\n",
    "  }\n",
    "}"
   ]
  },
  {
   "cell_type": "markdown",
   "metadata": {},
   "source": [
    "## Understanding TypeScript’s private"
   ]
  },
  {
   "cell_type": "code",
   "execution_count": 11,
   "metadata": {},
   "outputs": [
    {
     "name": "stderr",
     "output_type": "stream",
     "text": [
      "26:1 - Type 'Employee' is not assignable to type 'Animal'.\n",
      "26:1 - Types have separate declarations of a private property 'name'.\n"
     ]
    }
   ],
   "source": [
    "class Animal {\n",
    "  private name: string;\n",
    "  constructor(theName: string) {\n",
    "    this.name = theName;\n",
    "  }\n",
    "}\n",
    "\n",
    "class Rhino extends Animal {\n",
    "  constructor() {\n",
    "    super(\"Rhino\");\n",
    "  }\n",
    "}\n",
    "\n",
    "class Employee {\n",
    "  private name: string;\n",
    "  constructor(theName: string) {\n",
    "    this.name = theName;\n",
    "  }\n",
    "}\n",
    "\n",
    "let animal = new Animal(\"Goat\");\n",
    "let rhino = new Rhino();\n",
    "let employee = new Employee(\"Bob\");\n",
    "\n",
    "animal = rhino;\n",
    "animal = employee;"
   ]
  },
  {
   "cell_type": "markdown",
   "metadata": {},
   "source": [
    "## Understanding protected"
   ]
  },
  {
   "cell_type": "code",
   "execution_count": 12,
   "metadata": {},
   "outputs": [
    {
     "name": "stderr",
     "output_type": "stream",
     "text": [
      "23:12 - Constructor of class 'Person' is protected and only accessible within the class declaration.\n"
     ]
    }
   ],
   "source": [
    "class Person {\n",
    "  protected name: string;\n",
    "  protected constructor(theName: string) {\n",
    "    this.name = theName;\n",
    "  }\n",
    "}\n",
    "\n",
    "// Employee can extend Person\n",
    "class Employee extends Person {\n",
    "  private department: string;\n",
    "\n",
    "  constructor(name: string, department: string) {\n",
    "    super(name);\n",
    "    this.department = department;\n",
    "  }\n",
    "\n",
    "  public getElevatorPitch() {\n",
    "    return `Hello, my name is ${this.name} and I work in ${this.department}.`;\n",
    "  }\n",
    "}\n",
    "\n",
    "let howard = new Employee(\"Howard\", \"Sales\");\n",
    "let john = new Person(\"John\");\n"
   ]
  },
  {
   "cell_type": "markdown",
   "metadata": {},
   "source": [
    "## Readonly modifier"
   ]
  },
  {
   "cell_type": "code",
   "execution_count": 13,
   "metadata": {},
   "outputs": [
    {
     "name": "stderr",
     "output_type": "stream",
     "text": [
      "11:5 - Cannot assign to 'name' because it is a read-only property.\n"
     ]
    }
   ],
   "source": [
    "class Octopus {\n",
    "  readonly name: string;\n",
    "  readonly numberOfLegs: number = 8;\n",
    "\n",
    "  constructor(theName: string) {\n",
    "    this.name = theName;\n",
    "  }\n",
    "}\n",
    "\n",
    "let dad = new Octopus(\"Man with the 8 strong legs\");\n",
    "dad.name = \"Man with the 3-piece suit\";"
   ]
  },
  {
   "cell_type": "markdown",
   "metadata": {},
   "source": [
    "## Parameter properties"
   ]
  },
  {
   "cell_type": "code",
   "execution_count": 14,
   "metadata": {},
   "outputs": [
    {
     "name": "stdout",
     "output_type": "stream",
     "text": [
      "Man with the 8 strong legs\n"
     ]
    }
   ],
   "source": [
    "class Octopus {\n",
    "  readonly numberOfLegs: number = 8;\n",
    "  constructor(readonly name: string) {}\n",
    "}\n",
    "\n",
    "let dad = new Octopus(\"Man with the 8 strong legs\");\n",
    "dad.name;"
   ]
  },
  {
   "cell_type": "markdown",
   "metadata": {},
   "source": [
    "## Accessors"
   ]
  },
  {
   "cell_type": "code",
   "execution_count": 15,
   "metadata": {},
   "outputs": [
    {
     "name": "stdout",
     "output_type": "stream",
     "text": [
      "Bob Smith\n"
     ]
    }
   ],
   "source": [
    "const fullNameMaxLength = 10;\n",
    "\n",
    "class Employee {\n",
    "  private _fullName: string;\n",
    "\n",
    "  get fullName(): string {\n",
    "    return this._fullName;\n",
    "  }\n",
    "\n",
    "  set fullName(newName: string) {\n",
    "    if (newName && newName.length > fullNameMaxLength) {\n",
    "      throw new Error(\"fullName has a max length of \" + fullNameMaxLength);\n",
    "    }\n",
    "\n",
    "    this._fullName = newName;\n",
    "  }\n",
    "}\n",
    "\n",
    "let employee = new Employee();\n",
    "employee.fullName = \"Bob Smith\";\n",
    "\n",
    "if (employee.fullName) {\n",
    "  console.log(employee.fullName);\n",
    "}"
   ]
  },
  {
   "cell_type": "markdown",
   "metadata": {},
   "source": [
    "## Static Properties"
   ]
  },
  {
   "cell_type": "code",
   "execution_count": 18,
   "metadata": {},
   "outputs": [
    {
     "name": "stdout",
     "output_type": "stream",
     "text": [
      "\u001b[33m14.142135623730951\u001b[39m\n",
      "\u001b[33m2.8284271247461903\u001b[39m\n"
     ]
    }
   ],
   "source": [
    "class Grid {\n",
    "  static origin = { x: 0, y:0 }\n",
    "  \n",
    "  calculateDistanceFromOrigin(point: { x: number; y: number }) {\n",
    "    let xDist = point.x - Grid.origin.x;\n",
    "    let yDist = point.y - Grid.origin.y;\n",
    "    return Math.sqrt(xDist * xDist + yDist * yDist) / this.scale;\n",
    "  }\n",
    "  \n",
    "  constructor(public scale: number) {}\n",
    "}\n",
    "\n",
    "let grid1 = new Grid(1.0); // 1x scale\n",
    "let grid2 = new Grid(5.0); // 5x scale\n",
    "\n",
    "console.log(grid1.calculateDistanceFromOrigin({ x: 10, y: 10 }));\n",
    "console.log(grid2.calculateDistanceFromOrigin({ x: 10, y: 10 }));"
   ]
  },
  {
   "cell_type": "markdown",
   "metadata": {},
   "source": [
    "## Abstract Classes"
   ]
  },
  {
   "cell_type": "code",
   "execution_count": 23,
   "metadata": {},
   "outputs": [
    {
     "name": "stderr",
     "output_type": "stream",
     "text": [
      "26:14 - Cannot create an instance of an abstract class.\n",
      "30:12 - Property 'generateReports' does not exist on type 'Department'.\n"
     ]
    }
   ],
   "source": [
    "abstract class Department {\n",
    "  constructor(public name: string) {}\n",
    "  \n",
    "  printName(): void {\n",
    "    console.log(\"Department name: \" + this.name);\n",
    "  }\n",
    "  \n",
    "  abstract printMeeting(): void // must be implemented in derived classes\n",
    "}\n",
    "\n",
    "class AccountingDepartment extends Department {\n",
    "  constructor() {\n",
    "    super(\"Accounting and Auditing\"); // constructors in derived classes must call super()\n",
    "  }\n",
    "\n",
    "  printMeeting(): void {\n",
    "    console.log(\"The Accounting Department meets each Monday at 10am.\");\n",
    "  }\n",
    "\n",
    "  generateReports(): void {\n",
    "    console.log(\"Generating accounting reports...\");\n",
    "  }\n",
    "}\n",
    "\n",
    "let department: Department; // ok to create a reference to an abstract type\n",
    "department = new Department(); // error: cannot create an instance of an abstract class\n",
    "department = new AccountingDepartment(); // ok to create and assign a non-abstract subclass\n",
    "department.printName();\n",
    "department.printMeeting();\n",
    "department.generateReports();"
   ]
  },
  {
   "cell_type": "markdown",
   "metadata": {},
   "source": [
    "# Advanced Techniques\n",
    "## Constructor functions"
   ]
  },
  {
   "cell_type": "code",
   "execution_count": 24,
   "metadata": {},
   "outputs": [
    {
     "name": "stdout",
     "output_type": "stream",
     "text": [
      "Hello, there\n",
      "Hey there!\n"
     ]
    }
   ],
   "source": [
    "class Greeter {\n",
    "  static standardGreeting = \"Hello, there\";\n",
    "  greeting: string;\n",
    "  greet() {\n",
    "    if (this.greeting) {\n",
    "      return \"Hello, \" + this.greeting;\n",
    "    } else {\n",
    "      return Greeter.standardGreeting;\n",
    "    }\n",
    "  }\n",
    "}\n",
    "\n",
    "let greeter1: Greeter;\n",
    "greeter1 = new Greeter();\n",
    "console.log(greeter1.greet()); // \"Hello, there\"\n",
    "\n",
    "let greeterMaker: typeof Greeter = Greeter;\n",
    "greeterMaker.standardGreeting = \"Hey there!\";\n",
    "\n",
    "let greeter2: Greeter = new greeterMaker();\n",
    "console.log(greeter2.greet()); // \"Hey there!\""
   ]
  },
  {
   "cell_type": "markdown",
   "metadata": {},
   "source": [
    "## Using a class as an interface"
   ]
  },
  {
   "cell_type": "code",
   "execution_count": 25,
   "metadata": {},
   "outputs": [],
   "source": [
    "class Point {\n",
    "  x: number;\n",
    "  y: number;\n",
    "}\n",
    "\n",
    "interface Point3d extends Point {\n",
    "  z: number;\n",
    "}\n",
    "\n",
    "let point3d: Point3d = { x: 1, y: 2, z: 3 };"
   ]
  },
  {
   "cell_type": "code",
   "execution_count": null,
   "metadata": {},
   "outputs": [],
   "source": []
  }
 ],
 "metadata": {
  "kernelspec": {
   "display_name": "TypeScript",
   "language": "typescript",
   "name": "tslab"
  },
  "language_info": {
   "codemirror_mode": {
    "mode": "typescript",
    "name": "javascript",
    "typescript": true
   },
   "file_extension": ".ts",
   "mimetype": "text/typescript",
   "name": "typescript",
   "version": "3.7.2"
  }
 },
 "nbformat": 4,
 "nbformat_minor": 4
}
