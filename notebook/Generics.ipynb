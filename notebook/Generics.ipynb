{
 "cells": [
  {
   "cell_type": "markdown",
   "metadata": {},
   "source": [
    "# Generics"
   ]
  },
  {
   "cell_type": "markdown",
   "metadata": {},
   "source": [
    "## Generic Types"
   ]
  },
  {
   "cell_type": "code",
   "execution_count": 1,
   "metadata": {},
   "outputs": [],
   "source": [
    "interface GenericIdentityFn<T> {\n",
    "  (arg: T): T;\n",
    "}\n",
    "\n",
    "function identity<T>(arg: T): T {\n",
    "  return arg;\n",
    "}\n",
    "\n",
    "let myIdentity: GenericIdentityFn<number> = identity;"
   ]
  },
  {
   "cell_type": "markdown",
   "metadata": {},
   "source": [
    "## Generic Classes"
   ]
  },
  {
   "cell_type": "code",
   "execution_count": 5,
   "metadata": {},
   "outputs": [
    {
     "name": "stdout",
     "output_type": "stream",
     "text": [
      "\u001b[33m4\u001b[39m\n"
     ]
    }
   ],
   "source": [
    "class GenericNumber<T> {\n",
    "  zeroValue: T\n",
    "  add: (x: T, y: T) => T\n",
    "}\n",
    "\n",
    "let myGenericNumber = new GenericNumber<number>()\n",
    "myGenericNumber.zeroValue = 0\n",
    "myGenericNumber.add = (x, y) => x + y\n",
    "\n",
    "myGenericNumber.add(myGenericNumber.zeroValue, 4)"
   ]
  },
  {
   "cell_type": "markdown",
   "metadata": {},
   "source": [
    "## Generic Constraints"
   ]
  },
  {
   "cell_type": "code",
   "execution_count": 9,
   "metadata": {},
   "outputs": [
    {
     "name": "stdout",
     "output_type": "stream",
     "text": [
      "\u001b[33m10\u001b[39m\n",
      "{ length: \u001b[33m10\u001b[39m, value: \u001b[33m4\u001b[39m }\n"
     ]
    }
   ],
   "source": [
    "interface LengthWise {\n",
    "  length: number\n",
    "}\n",
    "\n",
    "const loggingIdentity = <T extends LengthWise>(arg: T): T => {\n",
    "  console.log(arg.length)\n",
    "  return arg\n",
    "}\n",
    "\n",
    "loggingIdentity({ length: 10, value: 4 })"
   ]
  },
  {
   "cell_type": "markdown",
   "metadata": {},
   "source": [
    "## Using Type Parameters in Generic Constraints\n",
    "You can declare a type parameter that is constrained by another type parameter. For example, here we’d like to get a property from an object given its name. We’d like to ensure that we’re not accidentally grabbing a property that does not exist on the `obj`, so we’ll place a constraint between the two types:"
   ]
  },
  {
   "cell_type": "code",
   "execution_count": 10,
   "metadata": {},
   "outputs": [
    {
     "name": "stderr",
     "output_type": "stream",
     "text": [
      "8:16 - Argument of type '\"m\"' is not assignable to parameter of type '\"a\" | \"b\" | \"c\" | \"d\"'.\n"
     ]
    }
   ],
   "source": [
    "function getProperty<T, K extends keyof T>(obj: T, key: K) {\n",
    "  return obj[key];\n",
    "}\n",
    "\n",
    "let x = { a: 1, b: 2, c: 3, d: 4 };\n",
    "\n",
    "getProperty(x, \"a\"); // It's OK\n",
    "getProperty(x, \"m\"); // nah It's not gonna happend"
   ]
  },
  {
   "cell_type": "markdown",
   "metadata": {},
   "source": [
    "## Using Class Types in Generics"
   ]
  },
  {
   "cell_type": "code",
   "execution_count": 24,
   "metadata": {},
   "outputs": [
    {
     "name": "stderr",
     "output_type": "stream",
     "text": [
      "evalmachine.<anonymous>:23\n",
      "createInstance(Lion).keeper.nametag;\n",
      "                           ^\n",
      "\n",
      "TypeError: Cannot read property 'nametag' of undefined\n",
      "    at evalmachine.<anonymous>:23:28\n",
      "    at evalmachine.<anonymous>:26:3\n",
      "    at sigintHandlersWrap (vm.js:288:15)\n",
      "    at Script.runInThisContext (vm.js:120:14)\n",
      "    at Object.runInThisContext (vm.js:329:38)\n",
      "    at Object.execute (/Users/Potikorn/.nvm/versions/node/v10.16.3/lib/node_modules/tslab/dist/executor.js:162:38)\n",
      "    at JupyterHandlerImpl.handleExecuteImpl (/Users/Potikorn/.nvm/versions/node/v10.16.3/lib/node_modules/tslab/dist/jupyter.js:219:38)\n",
      "    at count.execQueue.add (/Users/Potikorn/.nvm/versions/node/v10.16.3/lib/node_modules/tslab/dist/jupyter.js:177:57)\n"
     ]
    }
   ],
   "source": [
    "// Too Complex (For me)\n",
    "\n",
    "\n",
    "class BeeKeeper {\n",
    "  hasMask: boolean\n",
    "}\n",
    "\n",
    "class ZooKeeper {\n",
    "  nametag: string\n",
    "}\n",
    "\n",
    "class Animal {\n",
    "  numLegs: number\n",
    "}\n",
    "\n",
    "class Bee extends Animal {\n",
    "  keeper: BeeKeeper\n",
    "}\n",
    "\n",
    "class Lion extends Animal {\n",
    "  keeper: ZooKeeper\n",
    "}\n",
    "\n",
    "const createInstance = <A extends Animal>(c: new () => A): A => {\n",
    "  return new c()\n",
    "} \n",
    "\n",
    "createInstance(Lion).keeper.nametag\n",
    "createInstance(Bee).keeper.hasMask"
   ]
  },
  {
   "cell_type": "code",
   "execution_count": null,
   "metadata": {},
   "outputs": [],
   "source": []
  }
 ],
 "metadata": {
  "kernelspec": {
   "display_name": "TypeScript",
   "language": "typescript",
   "name": "tslab"
  },
  "language_info": {
   "codemirror_mode": {
    "mode": "typescript",
    "name": "javascript",
    "typescript": true
   },
   "file_extension": ".ts",
   "mimetype": "text/typescript",
   "name": "typescript",
   "version": "3.7.2"
  }
 },
 "nbformat": 4,
 "nbformat_minor": 4
}
