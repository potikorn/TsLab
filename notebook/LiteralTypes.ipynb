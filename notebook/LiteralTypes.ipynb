{
 "cells": [
  {
   "cell_type": "markdown",
   "metadata": {},
   "source": [
    "# Literal Types\n",
    "A literal is a more concrete sub-type of a collective type. What this means is that `\"Hello World\"` is a `string`, but a `string` is not `\"Hello World\"` inside the type system.\n",
    "\n",
    "There are three sets of literal types available in TypeScript today: strings, numbers, and booleans; by using literal types you can allow an exact value which a string, number, or boolean must have."
   ]
  },
  {
   "cell_type": "markdown",
   "metadata": {},
   "source": [
    "## String Literal Types"
   ]
  },
  {
   "cell_type": "code",
   "execution_count": 1,
   "metadata": {},
   "outputs": [
    {
     "name": "stderr",
     "output_type": "stream",
     "text": [
      "18:22 - Argument of type '\"uneasy\"' is not assignable to parameter of type 'Easing'.\n"
     ]
    }
   ],
   "source": [
    "type Easing = \"ease-in\" | \"ease-out\" | \"ease-in-out\";\n",
    "\n",
    "class UIElement {\n",
    "  animate(dx: number, dy: number, easing: Easing) {\n",
    "    if (easing === \"ease-in\") {\n",
    "      // ...\n",
    "    } else if (easing === \"ease-out\") {\n",
    "    } else if (easing === \"ease-in-out\") {\n",
    "    } else {\n",
    "      // It's possible that someone could reach this\n",
    "      // by ignoring your types though.\n",
    "    }\n",
    "  }\n",
    "}\n",
    "\n",
    "let button = new UIElement();\n",
    "button.animate(0, 0, \"ease-in\");\n",
    "button.animate(0, 0, \"uneasy\");"
   ]
  },
  {
   "cell_type": "markdown",
   "metadata": {},
   "source": [
    "## Numeric Literal Types"
   ]
  },
  {
   "cell_type": "code",
   "execution_count": 11,
   "metadata": {},
   "outputs": [
    {
     "name": "stdout",
     "output_type": "stream",
     "text": [
      "Roll dice 5\n",
      "Map Config { lng: \u001b[33m-73.935242\u001b[39m, lat: \u001b[33m40.73061\u001b[39m, tileSize: \u001b[33m16\u001b[39m }\n"
     ]
    }
   ],
   "source": [
    "function rollDice(): 1 | 2 | 3 | 4 | 5 | 6 {\n",
    "  return (Math.floor(Math.random() * 6) + 1) as 1 | 2 | 3 | 4 | 5 | 6\n",
    "}\n",
    "\n",
    "const result = rollDice();\n",
    "\n",
    "// A common case for their use is for describing config values:\n",
    "\n",
    "interface MapConfig {\n",
    "  lng: number\n",
    "  lat: number\n",
    "  tileSize: 8 | 16 | 32\n",
    "}\n",
    "\n",
    "const setupMap: MapConfig = { lng: -73.935242, lat: 40.73061, tileSize: 16 }\n",
    "\n",
    "console.log(\"Roll dice\", result)\n",
    "console.log(\"Map Config\", setupMap)"
   ]
  },
  {
   "cell_type": "markdown",
   "metadata": {},
   "source": [
    "## Boolean Literal Types"
   ]
  },
  {
   "cell_type": "code",
   "execution_count": 12,
   "metadata": {},
   "outputs": [],
   "source": [
    "interface ValidationSuccess {\n",
    "  isValid: true\n",
    "  reason: null\n",
    "};\n",
    "\n",
    "interface ValidationFailure {\n",
    "  isValid: false\n",
    "  reason: string\n",
    "};\n",
    "\n",
    "type ValidationResult =\n",
    "  | ValidationSuccess\n",
    "  | ValidationFailure"
   ]
  },
  {
   "cell_type": "code",
   "execution_count": null,
   "metadata": {},
   "outputs": [],
   "source": []
  }
 ],
 "metadata": {
  "kernelspec": {
   "display_name": "TypeScript",
   "language": "typescript",
   "name": "tslab"
  },
  "language_info": {
   "codemirror_mode": {
    "mode": "typescript",
    "name": "javascript",
    "typescript": true
   },
   "file_extension": ".ts",
   "mimetype": "text/typescript",
   "name": "typescript",
   "version": "3.7.2"
  }
 },
 "nbformat": 4,
 "nbformat_minor": 4
}
