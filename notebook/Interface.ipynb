{
 "cells": [
  {
   "cell_type": "markdown",
   "metadata": {},
   "source": [
    "# **Our First Interface**"
   ]
  },
  {
   "cell_type": "markdown",
   "metadata": {},
   "source": [
    "## Without Interface"
   ]
  },
  {
   "cell_type": "code",
   "execution_count": 4,
   "metadata": {},
   "outputs": [
    {
     "name": "stdout",
     "output_type": "stream",
     "text": [
      "Size 10 Object\n"
     ]
    }
   ],
   "source": [
    "function printLabel(labeledObj: {label: string}) {\n",
    "    console.log(labeledObj.label)\n",
    "}\n",
    "\n",
    "let myObj = { size: 10, label: \"Size 10 Object\" }\n",
    "\n",
    "printLabel(myObj)"
   ]
  },
  {
   "cell_type": "markdown",
   "metadata": {},
   "source": [
    "## With Interface"
   ]
  },
  {
   "cell_type": "code",
   "execution_count": 10,
   "metadata": {},
   "outputs": [
    {
     "name": "stdout",
     "output_type": "stream",
     "text": [
      "Size 10 Object\n"
     ]
    }
   ],
   "source": [
    "interface LabeledValue {\n",
    "    label: string\n",
    "}\n",
    "\n",
    "function printLabel(labeledObj: LabeledValue) {\n",
    "    console.log(labeledObj.label)\n",
    "}\n",
    "\n",
    "let myObj = { size: 10, label: \"Size 10 Object\" }\n",
    "printLabel(myObj)"
   ]
  },
  {
   "cell_type": "markdown",
   "metadata": {},
   "source": [
    "# Optional Properties"
   ]
  },
  {
   "cell_type": "code",
   "execution_count": 21,
   "metadata": {},
   "outputs": [
    {
     "name": "stdout",
     "output_type": "stream",
     "text": [
      "{ color: \u001b[32m'red'\u001b[39m, area: \u001b[33m25\u001b[39m }\n"
     ]
    }
   ],
   "source": [
    "interface SquareConfig {\n",
    "    color?: string\n",
    "    width?: number\n",
    "}\n",
    "\n",
    "function createSquare(config: SquareConfig): {color: string, area: number} {\n",
    "    let newSquare = {color: \"white\", area: 100}\n",
    "    if (config.color) {\n",
    "        newSquare.color = config.color\n",
    "    }\n",
    "    if (config.width) {\n",
    "        newSquare.area = config.width * config.width;\n",
    "    }\n",
    "    return newSquare;\n",
    "}\n",
    "\n",
    "let mySquare = createSquare({color: \"red\", width: 5})\n",
    "mySquare"
   ]
  },
  {
   "cell_type": "markdown",
   "metadata": {},
   "source": [
    "# Readonly properties"
   ]
  },
  {
   "cell_type": "code",
   "execution_count": 23,
   "metadata": {},
   "outputs": [
    {
     "name": "stderr",
     "output_type": "stream",
     "text": [
      "7:4 - Cannot assign to 'x' because it is a read-only property.\n"
     ]
    }
   ],
   "source": [
    "interface Point {\n",
    "  readonly x: number;\n",
    "  readonly y: number;\n",
    "}\n",
    "\n",
    "let p1: Point = { x: 10, y: 20 };\n",
    "p1.x = 5; // error!"
   ]
  },
  {
   "cell_type": "code",
   "execution_count": 20,
   "metadata": {},
   "outputs": [
    {
     "name": "stdout",
     "output_type": "stream",
     "text": [
      "[ \u001b[33m1\u001b[39m, \u001b[33m2\u001b[39m, \u001b[33m3\u001b[39m, \u001b[33m4\u001b[39m ]\n"
     ]
    }
   ],
   "source": [
    "let a: number[] = [1, 2, 3, 4];\n",
    "let ro: ReadonlyArray<number> = a;\n",
    "\n",
    "a = ro as number[];"
   ]
  },
  {
   "cell_type": "markdown",
   "metadata": {},
   "source": [
    "# Excess Property Checks"
   ]
  },
  {
   "cell_type": "markdown",
   "metadata": {},
   "source": [
    "in case you want to not sure if interface has additional properties"
   ]
  },
  {
   "cell_type": "code",
   "execution_count": 27,
   "metadata": {},
   "outputs": [
    {
     "name": "stdout",
     "output_type": "stream",
     "text": [
      "{ color: \u001b[32m'Blue'\u001b[39m, area: \u001b[33m5\u001b[39m }\n"
     ]
    }
   ],
   "source": [
    "interface  TriangleConfig {\n",
    "    base?: number\n",
    "    height?: number\n",
    "    [propName: string]: any;\n",
    "}\n",
    "\n",
    "function createTriangle(config: TriangleConfig): { color: string, area: number } {\n",
    "    const calculatedArea = 1/2 * (config.base * config.height)\n",
    "    return { color: config.color || \"black\", area: calculatedArea ||0 }\n",
    "    \n",
    "}\n",
    "\n",
    "let myTri = createTriangle({ base: 2, height: 5, color: \"Blue\" })\n",
    "myTri"
   ]
  },
  {
   "cell_type": "markdown",
   "metadata": {},
   "source": [
    "# Function Types"
   ]
  },
  {
   "cell_type": "code",
   "execution_count": 35,
   "metadata": {},
   "outputs": [
    {
     "name": "stdout",
     "output_type": "stream",
     "text": [
      "\u001b[33mfalse\u001b[39m\n"
     ]
    }
   ],
   "source": [
    "interface SearchFunc {\n",
    "    (source: string, subString: string): boolean\n",
    "}\n",
    "\n",
    "let mySearchFunc: SearchFunc\n",
    "\n",
    "mySearchFunc = function(src, sub) {\n",
    "    let result = src.search(sub)\n",
    "    return result > -1\n",
    "}\n",
    "\n",
    "mySearchFunc(\"Toast\", \"A\")"
   ]
  },
  {
   "cell_type": "markdown",
   "metadata": {},
   "source": [
    "# Class Types"
   ]
  },
  {
   "cell_type": "code",
   "execution_count": 43,
   "metadata": {},
   "outputs": [
    {
     "name": "stdout",
     "output_type": "stream",
     "text": [
      "Clock { currentTime: \u001b[35m2020-08-24T09:37:00.260Z\u001b[39m }\n"
     ]
    }
   ],
   "source": [
    "interface ClockInterface {\n",
    "    currentTime: Date\n",
    "    setTime(d: Date): void\n",
    "}\n",
    "\n",
    "class Clock implements ClockInterface {\n",
    "    currentTime: Date = new Date()\n",
    "    \n",
    "    setTime(d: Date) {\n",
    "        this.currentTime = d\n",
    "    }\n",
    "    \n",
    "    constructor(h: number, m: number) {}\n",
    "}\n",
    "\n",
    "new Clock(12, 0)"
   ]
  },
  {
   "cell_type": "code",
   "execution_count": 55,
   "metadata": {},
   "outputs": [
    {
     "name": "stdout",
     "output_type": "stream",
     "text": [
      "DigitalClock {}\n",
      "AnalogClock {}\n"
     ]
    }
   ],
   "source": [
    "interface ClockConstructor {\n",
    "    new (hour: number, minute: number): ClockInterface;\n",
    "}\n",
    "\n",
    "interface ClockInterface {\n",
    "    tick(): void\n",
    "}\n",
    "\n",
    "function createClock(\n",
    "    ctor: ClockConstructor,\n",
    "    hour: number,\n",
    "    minute: number\n",
    "): ClockInterface {\n",
    "    return new ctor(hour, minute)\n",
    "}\n",
    "\n",
    "class DigitalClock implements ClockInterface {\n",
    "    constructor(h: number, m: number) {}\n",
    "    tick() {\n",
    "        console.log(\"beep beep\")\n",
    "    }\n",
    "}\n",
    "\n",
    "class AnalogClock implements ClockInterface {\n",
    "    constructor(h: number, m: number) {}\n",
    "    tick() {\n",
    "    console.log(\"tick tock\");\n",
    "    }\n",
    "}\n",
    "\n",
    "const digital = createClock(DigitalClock, 16, 2)\n",
    "const analog = createClock(AnalogClock, 2, 30)\n",
    "console.log(digital)\n",
    "console.log(analog)"
   ]
  },
  {
   "cell_type": "markdown",
   "metadata": {},
   "source": [
    "# Extending Interfaces"
   ]
  },
  {
   "cell_type": "code",
   "execution_count": 57,
   "metadata": {},
   "outputs": [
    {
     "name": "stdout",
     "output_type": "stream",
     "text": [
      "{ color: \u001b[32m'Red'\u001b[39m, penWidth: \u001b[33m2\u001b[39m, sideLength: \u001b[33m0.5\u001b[39m }\n"
     ]
    }
   ],
   "source": [
    "interface Shape {\n",
    "    color: string\n",
    "}\n",
    "\n",
    "interface Penstroke {\n",
    "    penWidth: number\n",
    "}\n",
    "\n",
    "interface Square extends Shape, Penstroke {\n",
    "    sideLength: number\n",
    "}\n",
    "\n",
    "let square = {} as Square\n",
    "square.color = \"Red\"\n",
    "square.penWidth = 2\n",
    "square.sideLength = 0.5\n",
    "\n",
    "square"
   ]
  },
  {
   "cell_type": "markdown",
   "metadata": {},
   "source": [
    "# Hybrid Types"
   ]
  },
  {
   "cell_type": "code",
   "execution_count": 74,
   "metadata": {},
   "outputs": [
    {
     "name": "stdout",
     "output_type": "stream",
     "text": [
      "{ [Function: counter] interval: \u001b[33m5\u001b[39m, reset: \u001b[36m[Function]\u001b[39m }\n"
     ]
    }
   ],
   "source": [
    "interface Counter {\n",
    "    (start: number): string\n",
    "    interval: number\n",
    "    reset(): void\n",
    "}\n",
    "\n",
    "function getCounter(): Counter {\n",
    "    let counter = function (start: number) {} as Counter\n",
    "    counter.interval = 123\n",
    "    counter.reset = function () {};\n",
    "    return counter\n",
    "}\n",
    "\n",
    "let c = getCounter()\n",
    "c(10)\n",
    "c.reset()\n",
    "c.interval = 5.0\n",
    "\n",
    "c"
   ]
  },
  {
   "cell_type": "markdown",
   "metadata": {},
   "source": [
    "# Interfaces Extending Classes"
   ]
  },
  {
   "cell_type": "code",
   "execution_count": 76,
   "metadata": {},
   "outputs": [
    {
     "name": "stderr",
     "output_type": "stream",
     "text": [
      "17:7 - Class 'ImageControl' incorrectly implements interface 'SelectableControl'.\n",
      "17:7 - Types have separate declarations of a private property 'state'.\n"
     ]
    }
   ],
   "source": [
    "class Control {\n",
    "  private state: any;\n",
    "}\n",
    "\n",
    "interface SelectableControl extends Control {\n",
    "  select(): void;\n",
    "}\n",
    "\n",
    "class Button extends Control implements SelectableControl {\n",
    "  select() {}\n",
    "}\n",
    "\n",
    "class TextBox extends Control {\n",
    "  select() {}\n",
    "}\n",
    "\n",
    "class ImageControl implements SelectableControl {\n",
    "  private state: any;\n",
    "  select() {}\n",
    "}"
   ]
  },
  {
   "cell_type": "code",
   "execution_count": null,
   "metadata": {},
   "outputs": [],
   "source": []
  }
 ],
 "metadata": {
  "kernelspec": {
   "display_name": "TypeScript",
   "language": "typescript",
   "name": "tslab"
  },
  "language_info": {
   "codemirror_mode": {
    "mode": "typescript",
    "name": "javascript",
    "typescript": true
   },
   "file_extension": ".ts",
   "mimetype": "text/typescript",
   "name": "typescript",
   "version": "3.7.2"
  }
 },
 "nbformat": 4,
 "nbformat_minor": 4
}
