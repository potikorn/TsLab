{
 "cells": [
  {
   "cell_type": "markdown",
   "metadata": {},
   "source": [
    "# Function"
   ]
  },
  {
   "cell_type": "code",
   "execution_count": 4,
   "metadata": {},
   "outputs": [
    {
     "name": "stdout",
     "output_type": "stream",
     "text": [
      "\u001b[33m3\u001b[39m\n",
      "\u001b[33m7\u001b[39m\n"
     ]
    }
   ],
   "source": [
    "// Named function\n",
    "function add(x, y) {\n",
    "  return x + y;\n",
    "}\n",
    "\n",
    "// Anonymous function\n",
    "let myAdd = (x, y) =>  x + y;\n",
    "\n",
    "console.log(add(1,2))\n",
    "console.log(add(3,4))"
   ]
  },
  {
   "cell_type": "markdown",
   "metadata": {},
   "source": [
    "## Function Types"
   ]
  },
  {
   "cell_type": "markdown",
   "metadata": {},
   "source": [
    "## Typing the function\n",
    "Let’s add types to our simple examples from earlier:"
   ]
  },
  {
   "cell_type": "code",
   "execution_count": 5,
   "metadata": {},
   "outputs": [],
   "source": [
    "function add(x: number, y: number): number {\n",
    "  return x + y;\n",
    "}\n",
    "\n",
    "let myAdd = function (x: number, y: number): number {\n",
    "  return x + y;\n",
    "};"
   ]
  },
  {
   "cell_type": "markdown",
   "metadata": {},
   "source": [
    "## Writing the function type\n",
    "Now that we’ve typed the function, let’s write the full type of the function out by looking at each piece of the function type."
   ]
  },
  {
   "cell_type": "code",
   "execution_count": 6,
   "metadata": {},
   "outputs": [],
   "source": [
    "let myAdd: (x: number, y: number) => number = function (\n",
    "  x: number,\n",
    "  y: number\n",
    "): number {\n",
    "  return x + y;\n",
    "};"
   ]
  },
  {
   "cell_type": "markdown",
   "metadata": {},
   "source": [
    "## Inferring the types\n",
    "In playing with the example, you may notice that the TypeScript compiler can figure out the type even if you only have types on one side of the equation:"
   ]
  },
  {
   "cell_type": "code",
   "execution_count": 7,
   "metadata": {},
   "outputs": [],
   "source": [
    "// The parameters 'x' and 'y' have the type number\n",
    "let myAdd = function (x: number, y: number): number {\n",
    "  return x + y;\n",
    "};\n",
    "\n",
    "// myAdd has the full function type\n",
    "let myAdd2: (baseValue: number, increment: number) => number = function (x, y) {\n",
    "  return x + y;\n",
    "};"
   ]
  },
  {
   "cell_type": "markdown",
   "metadata": {},
   "source": [
    "## Optional and Default Parameters"
   ]
  },
  {
   "cell_type": "markdown",
   "metadata": {},
   "source": [
    "### Optional parameters"
   ]
  },
  {
   "cell_type": "code",
   "execution_count": 9,
   "metadata": {},
   "outputs": [
    {
     "name": "stderr",
     "output_type": "stream",
     "text": [
      "7:41 - Expected 1-2 arguments, but got 3.\n"
     ]
    }
   ],
   "source": [
    "function buildName(firstName: string, lastName = \"Smith\") {\n",
    "  return firstName + \" \" + lastName\n",
    "}\n",
    "\n",
    "let result1 = buildName(\"Bob\") // works correctly now, returns \"Bob Smith\"\n",
    "let result2 = buildName(\"Bob\", undefined) // still works, also returns \"Bob Smith\"\n",
    "let result3 = buildName(\"Bob\", \"Adams\", \"Sr.\") // error, too many parameters\n",
    "let result4 = buildName(\"Bob\", \"Adams\") // ah, just right"
   ]
  },
  {
   "cell_type": "markdown",
   "metadata": {},
   "source": [
    "### Default parameters"
   ]
  },
  {
   "cell_type": "code",
   "execution_count": 11,
   "metadata": {},
   "outputs": [
    {
     "name": "stderr",
     "output_type": "stream",
     "text": [
      "5:15 - Expected 2 arguments, but got 1.\n",
      "6:41 - Expected 2 arguments, but got 3.\n"
     ]
    }
   ],
   "source": [
    "function buildName(firstName = \"Will\", lastName: string) {\n",
    "  return firstName + \" \" + lastName;\n",
    "}\n",
    "\n",
    "let result1 = buildName(\"Bob\"); // error, too few parameters\n",
    "let result2 = buildName(\"Bob\", \"Adams\", \"Sr.\"); // error, too many parameters\n",
    "let result3 = buildName(\"Bob\", \"Adams\"); // okay and returns \"Bob Adams\"\n",
    "let result4 = buildName(undefined, \"Adams\"); // okay and returns \"Will Adams\""
   ]
  },
  {
   "cell_type": "markdown",
   "metadata": {},
   "source": [
    "## Rest parameters"
   ]
  },
  {
   "cell_type": "code",
   "execution_count": 15,
   "metadata": {},
   "outputs": [
    {
     "name": "stdout",
     "output_type": "stream",
     "text": [
      "Joseph Samuel Lucas MacKinzie\n"
     ]
    }
   ],
   "source": [
    "function buildName(firstName: string, ...restOfName: string[]) {\n",
    "  return firstName + \" \" + restOfName.join(\" \");\n",
    "}\n",
    "\n",
    "let buildNameFun: (fname: string, ...rest: string[]) => string = buildName\n",
    "\n",
    "// employeeName will be \"Joseph Samuel Lucas MacKinzie\"\n",
    "let employeeName = buildNameFun(\"Joseph\", \"Samuel\", \"Lucas\", \"MacKinzie\");\n",
    "employeeName"
   ]
  },
  {
   "cell_type": "markdown",
   "metadata": {},
   "source": [
    "## this"
   ]
  },
  {
   "cell_type": "markdown",
   "metadata": {},
   "source": [
    "### this and arrow functions"
   ]
  },
  {
   "cell_type": "code",
   "execution_count": 21,
   "metadata": {},
   "outputs": [
    {
     "name": "stdout",
     "output_type": "stream",
     "text": [
      "card: 8 of hearts\n"
     ]
    }
   ],
   "source": [
    "let deck = {\n",
    "  suits: [\"hearts\", \"spades\", \"clubs\", \"diamonds\"],\n",
    "  cards: Array(52),\n",
    "  createCardPicker: function () {\n",
    "    // NOTE: the line below is now an arrow function, allowing us to capture 'this' right here\n",
    "    return () => {\n",
    "      let pickedCard = Math.floor(Math.random() * 52);\n",
    "      let pickedSuit = Math.floor(pickedCard / 13);\n",
    "\n",
    "      return { suit: this.suits[pickedSuit], card: pickedCard % 13 };\n",
    "    };\n",
    "  },\n",
    "};\n",
    "\n",
    "let cardPicker = deck.createCardPicker();\n",
    "let pickedCard = cardPicker();\n",
    "\n",
    "\"card: \" + pickedCard.card + \" of \" + pickedCard.suit"
   ]
  },
  {
   "cell_type": "markdown",
   "metadata": {},
   "source": [
    "### this parameters"
   ]
  },
  {
   "cell_type": "code",
   "execution_count": 38,
   "metadata": {},
   "outputs": [
    {
     "name": "stdout",
     "output_type": "stream",
     "text": [
      "card: 1 of spades\n"
     ]
    }
   ],
   "source": [
    "interface Card {\n",
    "  suit: string\n",
    "  card: number\n",
    "}\n",
    "\n",
    "interface Deck {\n",
    "  suits: string[]\n",
    "  cards: number[]\n",
    "  createCardPicker(this: Deck): () => Card\n",
    "}\n",
    "\n",
    "let deck: Deck = {\n",
    "  suits: [\"hearts\", \"spades\", \"clubs\", \"diamonds\"],\n",
    "  cards: Array[52],\n",
    "  createCardPicker: function (this: Deck) {\n",
    "    return () => {\n",
    "      let pickedCard = Math.floor(Math.random() * 52);\n",
    "      let pickedSuit = Math.floor(pickedCard / 13);\n",
    "\n",
    "      return { suit: this.suits[pickedSuit], card: pickedCard % 13 };\n",
    "    };\n",
    "  }, \n",
    "}\n",
    "\n",
    "let cardPicker = deck.createCardPicker();\n",
    "let pickedCard = cardPicker();\n",
    "\n",
    "\"card: \" + pickedCard.card + \" of \" + pickedCard.suit"
   ]
  },
  {
   "cell_type": "markdown",
   "metadata": {},
   "source": [
    "## Overloads"
   ]
  },
  {
   "cell_type": "code",
   "execution_count": 41,
   "metadata": {},
   "outputs": [
    {
     "name": "stdout",
     "output_type": "stream",
     "text": [
      "card: 4 of hearts\n",
      "card: 2 of spades\n"
     ]
    }
   ],
   "source": [
    "let suits = [\"hearts\", \"spades\", \"clubs\", \"diamonds\"];\n",
    "\n",
    "function pickCard(x: { suit: string; card: number }[]): number;\n",
    "function pickCard(x: number): { suit: string; card: number };\n",
    "function pickCard(x: any): any {\n",
    "  // Check to see if we're working with an object/array\n",
    "  // if so, they gave us the deck and we'll pick the card\n",
    "  if (typeof x == \"object\") {\n",
    "    let pickedCard = Math.floor(Math.random() * x.length);\n",
    "    return pickedCard;\n",
    "  }\n",
    "  // Otherwise just let them pick the card\n",
    "  else if (typeof x == \"number\") {\n",
    "    let pickedSuit = Math.floor(x / 13);\n",
    "    return { suit: suits[pickedSuit], card: x % 13 };\n",
    "  }\n",
    "}\n",
    "\n",
    "let myDeck = [\n",
    "  { suit: \"diamonds\", card: 2 },\n",
    "  { suit: \"spades\", card: 10 },\n",
    "  { suit: \"hearts\", card: 4 },\n",
    "];\n",
    "\n",
    "let pickedCard1 = myDeck[pickCard(myDeck)];\n",
    "console.log(\"card: \" + pickedCard1.card + \" of \" + pickedCard1.suit);\n",
    "\n",
    "let pickedCard2 = pickCard(15);\n",
    "console.log(\"card: \" + pickedCard2.card + \" of \" + pickedCard2.suit);"
   ]
  }
 ],
 "metadata": {
  "kernelspec": {
   "display_name": "TypeScript",
   "language": "typescript",
   "name": "tslab"
  },
  "language_info": {
   "codemirror_mode": {
    "mode": "typescript",
    "name": "javascript",
    "typescript": true
   },
   "file_extension": ".ts",
   "mimetype": "text/typescript",
   "name": "typescript",
   "version": "3.7.2"
  }
 },
 "nbformat": 4,
 "nbformat_minor": 4
}
