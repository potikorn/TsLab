{
 "cells": [
  {
   "cell_type": "markdown",
   "metadata": {},
   "source": [
    "# Type vs Interface"
   ]
  },
  {
   "cell_type": "code",
   "execution_count": 9,
   "metadata": {},
   "outputs": [],
   "source": [
    "type Man = {\n",
    "  name: string\n",
    "};\n",
    "\n",
    "type Woman = {\n",
    "  name: string\n",
    "};\n",
    "\n",
    "type PersonIntersection = Man | Woman;\n",
    "type PersonUnion = Man & Woman"
   ]
  },
  {
   "cell_type": "markdown",
   "metadata": {},
   "source": [
    "Interface can't Union or Intersection"
   ]
  },
  {
   "cell_type": "code",
   "execution_count": 11,
   "metadata": {},
   "outputs": [
    {
     "name": "stderr",
     "output_type": "stream",
     "text": [
      "1:15 - '{' expected.\n",
      "2:9 - 'string' only refers to a type, but is being used as a value here.\n",
      "5:17 - '{' expected.\n",
      "6:9 - 'string' only refers to a type, but is being used as a value here.\n"
     ]
    }
   ],
   "source": [
    "interface Man = {\n",
    "  name: string\n",
    "}\n",
    "\n",
    "interface Woman = {\n",
    "  name: string\n",
    "}\n",
    "\n",
    "type PersonIntersection = Man | Woman\n",
    "type PersonUnion = Man & Woman"
   ]
  },
  {
   "cell_type": "markdown",
   "metadata": {},
   "source": [
    "Same Interface will be merge automatically"
   ]
  },
  {
   "cell_type": "code",
   "execution_count": 16,
   "metadata": {},
   "outputs": [
    {
     "name": "stdout",
     "output_type": "stream",
     "text": [
      "{ width: \u001b[33m20\u001b[39m, height: \u001b[33m10\u001b[39m }\n"
     ]
    }
   ],
   "source": [
    "interface Rectangle {\n",
    "  width: number,\n",
    "}\n",
    "\n",
    "interface Rectangle {\n",
    "  height: number\n",
    "}\n",
    "\n",
    "const myRectangle: Rectangle = { width: 20, height: 10 }\n",
    "myRectangle"
   ]
  },
  {
   "cell_type": "code",
   "execution_count": null,
   "metadata": {},
   "outputs": [],
   "source": []
  }
 ],
 "metadata": {
  "kernelspec": {
   "display_name": "TypeScript",
   "language": "typescript",
   "name": "tslab"
  },
  "language_info": {
   "codemirror_mode": {
    "mode": "typescript",
    "name": "javascript",
    "typescript": true
   },
   "file_extension": ".ts",
   "mimetype": "text/typescript",
   "name": "typescript",
   "version": "3.7.2"
  }
 },
 "nbformat": 4,
 "nbformat_minor": 4
}
